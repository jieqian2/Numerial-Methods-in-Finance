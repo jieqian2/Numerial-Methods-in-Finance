{
 "cells": [
  {
   "cell_type": "code",
   "execution_count": 1,
   "metadata": {},
   "outputs": [],
   "source": [
    "import math\n",
    "import pandas as pd\n",
    "import numpy as np\n",
    "import matplotlib.pyplot as plt\n",
    "import statsmodels.api as sm\n",
    "\n",
    "np.random.seed(0)"
   ]
  },
  {
   "cell_type": "code",
   "execution_count": 2,
   "metadata": {},
   "outputs": [],
   "source": [
    "num_of_barriers = 25\n",
    "num_of_trails = 100000 \n",
    "dividinds_rate = 0\n",
    "risk_free_rate = 0.03\n",
    "strike_price = 105\n",
    "initial_stock_price = 99\n",
    "expiration_time = 25.0/252.0\n",
    "volatility = 0.6\n",
    "barrier_price = 90\n",
    "    \n",
    "delta_T = expiration_time/(num_of_barriers)\n",
    "delta_R = (risk_free_rate-dividinds_rate-0.5*volatility*volatility)*delta_T\n",
    "delta_SD = volatility*math.sqrt(delta_T)"
   ]
  },
  {
   "cell_type": "markdown",
   "metadata": {},
   "source": [
    "# (a) Price a discrete down-and-out call option using plain vanilla Monte Carlo simulations."
   ]
  },
  {
   "cell_type": "code",
   "execution_count": 14,
   "metadata": {},
   "outputs": [],
   "source": [
    "def plain_MC():\n",
    "    call_option_price = []\n",
    "    \n",
    "    for i in range(num_of_trails):\n",
    "        current_stock_price = initial_stock_price\n",
    "        for j in range(num_of_barriers):\n",
    "            fi = np.random.normal(0.0, 1.0)\n",
    "            if current_stock_price*math.exp(delta_R+delta_SD*fi) > barrier_price:\n",
    "                current_stock_price = current_stock_price*math.exp(delta_R+delta_SD*fi)\n",
    "            else: \n",
    "                current_stock_price = 0 \n",
    "        \n",
    "        call_price = max(0.0, current_stock_price-strike_price)\n",
    "        call_option_price.append(call_price * math.exp(-risk_free_rate*expiration_time))\n",
    "    \n",
    "    V_call = np.mean(call_option_price)\n",
    "    \n",
    "    std = np.std(call_option_price)/math.sqrt(num_of_trails)\n",
    "    \n",
    "    act_sum = 0\n",
    "    for i in range(num_of_trails):\n",
    "        act_sum += (call_option_price[i]-4.647650)*(call_option_price[i]-4.647650)\n",
    "    actual_error = math.sqrt(act_sum/(num_of_trails-1))\n",
    "    actual_error /= math.sqrt(num_of_trails)\n",
    "    \n",
    "    return V_call, std, actual_error"
   ]
  },
  {
   "cell_type": "code",
   "execution_count": 15,
   "metadata": {},
   "outputs": [
    {
     "name": "stdout",
     "output_type": "stream",
     "text": [
      "Plain vanilla Monte Carlo Simulations\n",
      "option price estimate:  4.63741653367863\n",
      "standard error:         0.03228316428400126\n",
      "actual error:           0.03228334192070403\n"
     ]
    }
   ],
   "source": [
    "V_call, std, actual_error = plain_MC()\n",
    "print(\"Plain vanilla Monte Carlo Simulations\")\n",
    "print(\"option price estimate: \",V_call)\n",
    "print(\"standard error:        \",std)\n",
    "print(\"actual error:          \",actual_error)"
   ]
  },
  {
   "cell_type": "markdown",
   "metadata": {},
   "source": [
    "# (b) Repeat part (a) using the plain vanilla European call option as a control variate."
   ]
  },
  {
   "cell_type": "code",
   "execution_count": 16,
   "metadata": {},
   "outputs": [],
   "source": [
    "Y = []\n",
    "X = []\n",
    "EX = initial_stock_price * math.exp(risk_free_rate*expiration_time)\n",
    "control_variate = [] \n",
    "\n",
    "for i in range(num_of_trails):\n",
    "    current_stock_price = initial_stock_price\n",
    "    S_T = initial_stock_price\n",
    "    for j in range(num_of_barriers):\n",
    "        fi = np.random.normal(0.0, 1.0)\n",
    "        S_T = S_T * math.exp(delta_R+delta_SD*fi)\n",
    "        if current_stock_price*math.exp(delta_R+delta_SD*fi) > barrier_price:\n",
    "            current_stock_price = current_stock_price*math.exp(delta_R+delta_SD*fi)\n",
    "        else: \n",
    "            current_stock_price = 0 \n",
    "            \n",
    "    X.append(S_T)\n",
    "    control_variate.append(S_T - EX)        \n",
    "    call_price = max(0.0, current_stock_price-strike_price)\n",
    "    Y.append(call_price)\n"
   ]
  },
  {
   "cell_type": "code",
   "execution_count": 17,
   "metadata": {},
   "outputs": [
    {
     "name": "stdout",
     "output_type": "stream",
     "text": [
      "                            OLS Regression Results                            \n",
      "==============================================================================\n",
      "Dep. Variable:                      y   R-squared:                       0.624\n",
      "Model:                            OLS   Adj. R-squared:                  0.624\n",
      "Method:                 Least Squares   F-statistic:                 1.661e+05\n",
      "Date:                Mon, 13 Apr 2020   Prob (F-statistic):               0.00\n",
      "Time:                        15:24:08   Log-Likelihood:            -3.2601e+05\n",
      "No. Observations:              100000   AIC:                         6.520e+05\n",
      "Df Residuals:                   99998   BIC:                         6.520e+05\n",
      "Df Model:                           1                                         \n",
      "Covariance Type:            nonrobust                                         \n",
      "==============================================================================\n",
      "                 coef    std err          t      P>|t|      [0.025      0.975]\n",
      "------------------------------------------------------------------------------\n",
      "const        -37.8542      0.106   -356.132      0.000     -38.063     -37.646\n",
      "x1             0.4281      0.001    407.526      0.000       0.426       0.430\n",
      "==============================================================================\n",
      "Omnibus:                    17709.995   Durbin-Watson:                   1.999\n",
      "Prob(Omnibus):                  0.000   Jarque-Bera (JB):            62376.090\n",
      "Skew:                           0.878   Prob(JB):                         0.00\n",
      "Kurtosis:                       6.447   Cond. No.                         540.\n",
      "==============================================================================\n",
      "\n",
      "Warnings:\n",
      "[1] Standard Errors assume that the covariance matrix of the errors is correctly specified.\n"
     ]
    }
   ],
   "source": [
    "X = sm.add_constant(X) \n",
    "model = sm.OLS(Y, X).fit() \n",
    "print(model.summary())"
   ]
  },
  {
   "cell_type": "code",
   "execution_count": 18,
   "metadata": {},
   "outputs": [
    {
     "name": "stdout",
     "output_type": "stream",
     "text": [
      "R_2 =  0.6241743314366484\n",
      "b* =  0.42813405861834836\n"
     ]
    }
   ],
   "source": [
    "R_2 = model.rsquared\n",
    "b_star = model.params[1]\n",
    "\n",
    "print(\"R_2 = \", R_2)\n",
    "print(\"b* = \", b_star) "
   ]
  },
  {
   "cell_type": "code",
   "execution_count": 19,
   "metadata": {},
   "outputs": [],
   "source": [
    "def variance_reduction_MC():\n",
    "    Y_b = []\n",
    "    EX = initial_stock_price * math.exp(risk_free_rate*expiration_time)\n",
    "    for i in range(num_of_trails):\n",
    "        current_stock_price = initial_stock_price\n",
    "        S_T = initial_stock_price\n",
    "        for j in range(num_of_barriers):\n",
    "            fi = np.random.normal(0.0, 1.0)\n",
    "            S_T = S_T * math.exp(delta_R+delta_SD*fi)\n",
    "            if current_stock_price*math.exp(delta_R+delta_SD*fi) > barrier_price:\n",
    "                current_stock_price = current_stock_price*math.exp(delta_R+delta_SD*fi)\n",
    "            else: \n",
    "                current_stock_price = 0 \n",
    "                   \n",
    "        call_price = max(0.0, current_stock_price-strike_price) * math.exp(-risk_free_rate*expiration_time)\n",
    "        Y_b.append(call_price - b_star *(S_T - EX))\n",
    "    \n",
    "    V_call = np.mean(Y_b)\n",
    "    \n",
    "    std = np.std(Y_b)/math.sqrt(num_of_trails)\n",
    "    \n",
    "    act_sum = 0\n",
    "    for i in range(num_of_trails):\n",
    "        act_sum += (Y_b[i]-4.647650)*(Y_b[i]-4.647650)\n",
    "    actual_error = math.sqrt(act_sum/(num_of_trails-1))\n",
    "    actual_error /= math.sqrt(num_of_trails)\n",
    "    \n",
    "    return V_call, std, actual_error"
   ]
  },
  {
   "cell_type": "code",
   "execution_count": 20,
   "metadata": {
    "scrolled": false
   },
   "outputs": [
    {
     "name": "stdout",
     "output_type": "stream",
     "text": [
      "Variance Reduction Monte Carlo Simulations\n",
      "(using the plain vanilla European call option as a control variate)\n",
      "option price estimate:  4.642358370295313\n",
      "standard error:         0.01978073658815902\n",
      "actual error:           0.019780842570550662\n"
     ]
    }
   ],
   "source": [
    "V, s, a = variance_reduction_MC()\n",
    "print(\"Variance Reduction Monte Carlo Simulations\")\n",
    "print(\"(using the plain vanilla European call option as a control variate)\")\n",
    "print(\"option price estimate: \",V)\n",
    "print(\"standard error:        \",s)\n",
    "print(\"actual error:          \",a)"
   ]
  },
  {
   "cell_type": "code",
   "execution_count": null,
   "metadata": {},
   "outputs": [],
   "source": []
  },
  {
   "cell_type": "code",
   "execution_count": 7,
   "metadata": {},
   "outputs": [
    {
     "data": {
      "image/png": "[encoded data removed]",
      "text/plain": [
       "<Figure size 432x288 with 1 Axes>"
      ]
     },
     "metadata": {
      "needs_background": "light"
     },
     "output_type": "display_data"
    }
   ],
   "source": [
    "#This is for question 5(a) \n",
    "conv = pd.read_csv(\"convergence.csv\")\n",
    "plt.plot(conv['steps'], conv['price'])\n",
    "plt.xlabel('Steps')\n",
    "plt.ylabel('Prices')\n",
    "plt.show()"
   ]
  },
  {
   "cell_type": "code",
   "execution_count": null,
   "metadata": {},
   "outputs": [],
   "source": []
  }
 ],
 "metadata": {
  "kernelspec": {
   "display_name": "Python 3",
   "language": "python",
   "name": "python3"
  },
  "language_info": {
   "codemirror_mode": {
    "name": "ipython",
    "version": 3
   },
   "file_extension": ".py",
   "mimetype": "text/x-python",
   "name": "python",
   "nbconvert_exporter": "python",
   "pygments_lexer": "ipython3",
   "version": "3.7.3"
  }
 },
 "nbformat": 4,
 "nbformat_minor": 2
}
